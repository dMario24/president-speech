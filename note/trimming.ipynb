{
 "cells": [
  {
   "cell_type": "code",
   "execution_count": 1,
   "id": "initial_id",
   "metadata": {
    "collapsed": true,
    "ExecuteTime": {
     "end_time": "2023-09-06T04:42:59.805559Z",
     "start_time": "2023-09-06T04:42:59.417754Z"
    }
   },
   "outputs": [],
   "source": [
    "import pandas as pd"
   ]
  },
  {
   "cell_type": "code",
   "execution_count": 2,
   "outputs": [],
   "source": [
    "df = pd.read_parquet(\"../src/president_speech/db/parquet/president_speech_ko.parquet\")"
   ],
   "metadata": {
    "collapsed": false,
    "ExecuteTime": {
     "end_time": "2023-09-06T04:43:24.788604Z",
     "start_time": "2023-09-06T04:43:24.601175Z"
    }
   },
   "id": "833b7be1a56ccafc"
  },
  {
   "cell_type": "code",
   "execution_count": 3,
   "outputs": [
    {
     "data": {
      "text/plain": "        division_number president                title        date location  \\\n5368            1305368       박정희  제5대 대통령 취임식 대통령 취임사  1963.12.17       국내   \n5369            1305369       박정희            국회 개회식 치사  1963.12.17       국내   \n5370            1305370       박정희               신년 메시지  1964.01.01       국내   \n5371            1305371       박정희      신년 시무식에 즈음한 담화문        1964       국내   \n5372            1305372       박정희       고급공무원에게 보내는 서신  1964.01.04       국내   \n...                 ...       ...                  ...         ...      ...   \n102587          1401987       문재인             수석·보좌관회의  2021.04.05       국내   \n102588          1401988       문재인            제16회 국무회의  2021.04.13       국내   \n102589          1401989       문재인             수석·보좌관회의  2021.04.19       국내   \n102590          1401990       문재인             수석·보좌관회의  2021.04.26       국내   \n102591          1401991       문재인            제18회 국무회의  2021.04.27       국내   \n\n          kind                                        speech_text  \n5368       취임사  \\n\\n\\n단군성조가 천혜의 이 강토 위에 국기를 닦으신지 반만년, 연면히 이어온 ...  \n5369       기념사   존경하는 국회의장, 의원제위 그리고 내외귀빈 여러분! 오늘 이 뜻깊은 제3공화국의...  \n5370       신년사   친애하는 국내외의 동포 여러분! 혁명의 고된 시련을 겪고 민정이양으로 매듭을 지은...  \n5371    성명/담화문  친애하는 전국의 공무원 여러분! 민족 역사 위에 격동과 시련의 해로 길이 기록될 계...  \n5372       기념사  청 감갑진년의 새아침을 맞이하여 귀하와 귀하의 가정에 만복이 깃들기를 빌며, 새해에...  \n...        ...                                                ...  \n102587      회의  우리가 코로나19 이전으로 얼마나 빨리 돌아갈 수 있는지 여부는 오로지 방역과 백신...  \n102588      회의  정부는 국민께 무한책임을 진다는 자세로 흔들림 없이 국정에 임해야 합니다.방역도, ...  \n102589      회의  우리 정부 임기 마지막 날까지 흔들림 없이 국민과 역사가 부여한 책무를 다하자는 다...  \n102590      회의  코로나19와 같은 감염병의 세계적 대유행은 어느 한 나라가 자국의 문제를 해결한다고...  \n102591      회의  오늘 한국은행이 발표한 1분기 GDP 속보치에 따르면 우리 경제는 올해 1분기에 이...  \n\n[8771 rows x 7 columns]",
      "text/html": "<div>\n<style scoped>\n    .dataframe tbody tr th:only-of-type {\n        vertical-align: middle;\n    }\n\n    .dataframe tbody tr th {\n        vertical-align: top;\n    }\n\n    .dataframe thead th {\n        text-align: right;\n    }\n</style>\n<table border=\"1\" class=\"dataframe\">\n  <thead>\n    <tr style=\"text-align: right;\">\n      <th></th>\n      <th>division_number</th>\n      <th>president</th>\n      <th>title</th>\n      <th>date</th>\n      <th>location</th>\n      <th>kind</th>\n      <th>speech_text</th>\n    </tr>\n  </thead>\n  <tbody>\n    <tr>\n      <th>5368</th>\n      <td>1305368</td>\n      <td>박정희</td>\n      <td>제5대 대통령 취임식 대통령 취임사</td>\n      <td>1963.12.17</td>\n      <td>국내</td>\n      <td>취임사</td>\n      <td>\\n\\n\\n단군성조가 천혜의 이 강토 위에 국기를 닦으신지 반만년, 연면히 이어온 ...</td>\n    </tr>\n    <tr>\n      <th>5369</th>\n      <td>1305369</td>\n      <td>박정희</td>\n      <td>국회 개회식 치사</td>\n      <td>1963.12.17</td>\n      <td>국내</td>\n      <td>기념사</td>\n      <td>존경하는 국회의장, 의원제위 그리고 내외귀빈 여러분! 오늘 이 뜻깊은 제3공화국의...</td>\n    </tr>\n    <tr>\n      <th>5370</th>\n      <td>1305370</td>\n      <td>박정희</td>\n      <td>신년 메시지</td>\n      <td>1964.01.01</td>\n      <td>국내</td>\n      <td>신년사</td>\n      <td>친애하는 국내외의 동포 여러분! 혁명의 고된 시련을 겪고 민정이양으로 매듭을 지은...</td>\n    </tr>\n    <tr>\n      <th>5371</th>\n      <td>1305371</td>\n      <td>박정희</td>\n      <td>신년 시무식에 즈음한 담화문</td>\n      <td>1964</td>\n      <td>국내</td>\n      <td>성명/담화문</td>\n      <td>친애하는 전국의 공무원 여러분! 민족 역사 위에 격동과 시련의 해로 길이 기록될 계...</td>\n    </tr>\n    <tr>\n      <th>5372</th>\n      <td>1305372</td>\n      <td>박정희</td>\n      <td>고급공무원에게 보내는 서신</td>\n      <td>1964.01.04</td>\n      <td>국내</td>\n      <td>기념사</td>\n      <td>청 감갑진년의 새아침을 맞이하여 귀하와 귀하의 가정에 만복이 깃들기를 빌며, 새해에...</td>\n    </tr>\n    <tr>\n      <th>...</th>\n      <td>...</td>\n      <td>...</td>\n      <td>...</td>\n      <td>...</td>\n      <td>...</td>\n      <td>...</td>\n      <td>...</td>\n    </tr>\n    <tr>\n      <th>102587</th>\n      <td>1401987</td>\n      <td>문재인</td>\n      <td>수석·보좌관회의</td>\n      <td>2021.04.05</td>\n      <td>국내</td>\n      <td>회의</td>\n      <td>우리가 코로나19 이전으로 얼마나 빨리 돌아갈 수 있는지 여부는 오로지 방역과 백신...</td>\n    </tr>\n    <tr>\n      <th>102588</th>\n      <td>1401988</td>\n      <td>문재인</td>\n      <td>제16회 국무회의</td>\n      <td>2021.04.13</td>\n      <td>국내</td>\n      <td>회의</td>\n      <td>정부는 국민께 무한책임을 진다는 자세로 흔들림 없이 국정에 임해야 합니다.방역도, ...</td>\n    </tr>\n    <tr>\n      <th>102589</th>\n      <td>1401989</td>\n      <td>문재인</td>\n      <td>수석·보좌관회의</td>\n      <td>2021.04.19</td>\n      <td>국내</td>\n      <td>회의</td>\n      <td>우리 정부 임기 마지막 날까지 흔들림 없이 국민과 역사가 부여한 책무를 다하자는 다...</td>\n    </tr>\n    <tr>\n      <th>102590</th>\n      <td>1401990</td>\n      <td>문재인</td>\n      <td>수석·보좌관회의</td>\n      <td>2021.04.26</td>\n      <td>국내</td>\n      <td>회의</td>\n      <td>코로나19와 같은 감염병의 세계적 대유행은 어느 한 나라가 자국의 문제를 해결한다고...</td>\n    </tr>\n    <tr>\n      <th>102591</th>\n      <td>1401991</td>\n      <td>문재인</td>\n      <td>제18회 국무회의</td>\n      <td>2021.04.27</td>\n      <td>국내</td>\n      <td>회의</td>\n      <td>오늘 한국은행이 발표한 1분기 GDP 속보치에 따르면 우리 경제는 올해 1분기에 이...</td>\n    </tr>\n  </tbody>\n</table>\n<p>8771 rows × 7 columns</p>\n</div>"
     },
     "execution_count": 3,
     "metadata": {},
     "output_type": "execute_result"
    }
   ],
   "source": [
    "df"
   ],
   "metadata": {
    "collapsed": false,
    "ExecuteTime": {
     "end_time": "2023-09-06T04:43:27.990507Z",
     "start_time": "2023-09-06T04:43:27.978103Z"
    }
   },
   "id": "98d1c0ab4eb198e9"
  },
  {
   "cell_type": "code",
   "execution_count": 16,
   "outputs": [
    {
     "data": {
      "text/plain": "           size         min         max\npresident                              \n이명박        1027              2013.02.07\n이승만         998        1948  1959.03.10\n윤보선           3  1960.08.13  1960.09.15\n박정희        1270  1963.12.17  1979.10.26\n최규하          58  1979.10.27  1980.08.16\n전두환         602  1980.06.05  1987.02.16\n노태우         601  1988.02.25  1992.10.05\n김영삼         728  1993.01.09  1998.01.23\n김대중         822  1998.02.25  2003.02.17\n노무현         780  2003.02.25  2008.01.28\n박근혜         493  2013.02.24  2016.10.26\n문재인        1389  2017.05.10  2022.03.30",
      "text/html": "<div>\n<style scoped>\n    .dataframe tbody tr th:only-of-type {\n        vertical-align: middle;\n    }\n\n    .dataframe tbody tr th {\n        vertical-align: top;\n    }\n\n    .dataframe thead th {\n        text-align: right;\n    }\n</style>\n<table border=\"1\" class=\"dataframe\">\n  <thead>\n    <tr style=\"text-align: right;\">\n      <th></th>\n      <th>size</th>\n      <th>min</th>\n      <th>max</th>\n    </tr>\n    <tr>\n      <th>president</th>\n      <th></th>\n      <th></th>\n      <th></th>\n    </tr>\n  </thead>\n  <tbody>\n    <tr>\n      <th>이명박</th>\n      <td>1027</td>\n      <td></td>\n      <td>2013.02.07</td>\n    </tr>\n    <tr>\n      <th>이승만</th>\n      <td>998</td>\n      <td>1948</td>\n      <td>1959.03.10</td>\n    </tr>\n    <tr>\n      <th>윤보선</th>\n      <td>3</td>\n      <td>1960.08.13</td>\n      <td>1960.09.15</td>\n    </tr>\n    <tr>\n      <th>박정희</th>\n      <td>1270</td>\n      <td>1963.12.17</td>\n      <td>1979.10.26</td>\n    </tr>\n    <tr>\n      <th>최규하</th>\n      <td>58</td>\n      <td>1979.10.27</td>\n      <td>1980.08.16</td>\n    </tr>\n    <tr>\n      <th>전두환</th>\n      <td>602</td>\n      <td>1980.06.05</td>\n      <td>1987.02.16</td>\n    </tr>\n    <tr>\n      <th>노태우</th>\n      <td>601</td>\n      <td>1988.02.25</td>\n      <td>1992.10.05</td>\n    </tr>\n    <tr>\n      <th>김영삼</th>\n      <td>728</td>\n      <td>1993.01.09</td>\n      <td>1998.01.23</td>\n    </tr>\n    <tr>\n      <th>김대중</th>\n      <td>822</td>\n      <td>1998.02.25</td>\n      <td>2003.02.17</td>\n    </tr>\n    <tr>\n      <th>노무현</th>\n      <td>780</td>\n      <td>2003.02.25</td>\n      <td>2008.01.28</td>\n    </tr>\n    <tr>\n      <th>박근혜</th>\n      <td>493</td>\n      <td>2013.02.24</td>\n      <td>2016.10.26</td>\n    </tr>\n    <tr>\n      <th>문재인</th>\n      <td>1389</td>\n      <td>2017.05.10</td>\n      <td>2022.03.30</td>\n    </tr>\n  </tbody>\n</table>\n</div>"
     },
     "execution_count": 16,
     "metadata": {},
     "output_type": "execute_result"
    }
   ],
   "source": [
    "df.groupby(\"president\")[\"date\"].agg([\"size\", \"min\", \"max\"]).sort_values(\"min\", ascending=True)"
   ],
   "metadata": {
    "collapsed": false,
    "ExecuteTime": {
     "end_time": "2023-09-06T05:01:54.851900Z",
     "start_time": "2023-09-06T05:01:54.843867Z"
    }
   },
   "id": "40ff571f2464473a"
  },
  {
   "cell_type": "code",
   "execution_count": 18,
   "outputs": [
    {
     "data": {
      "text/plain": "       division_number president  \\\n29880          1329848       이명박   \n29882          1329850       이명박   \n29886          1329854       이명박   \n29887          1329855       이명박   \n29888          1329856       이명박   \n...                ...       ...   \n30095          1330063       이명박   \n30096          1330064       이명박   \n30097          1330065       이명박   \n30705          1330673       이명박   \n30706          1330674       이명박   \n\n                                                  title date location kind  \\\n29880                                      제17대 대통령 취임사            국내  취임사   \n29882                               학군사관후보생 제46기 임관식 축사            국내  기념사   \n29886                                    제89주년 3·1절 기념사            국내  기념사   \n29887                                2008 KR/FE연습 격려 편지            국내  기념사   \n29888                             한국노동조합총연맹 창립 제62주년 축사            국내  기념사   \n...                                                 ...  ...      ...  ...   \n30095                                  공무원 설 격려 휴대폰 메시지            국내  기념사   \n30096                             주한 외국인 투자기업 신년 리셉션 연설            국내   기타   \n30097                              SBS 특집 '대통령과의 원탁 대화'            국내   기타   \n30705  제108차 라디오·인터넷 연설 - 도전하는 젊은이들이 있기에 대한민국의 미래는 밝습니다            국내   기타   \n30706      제109차 라디오·인터넷 연설 - 저는 '대한민국의 가장 행복한 일꾼'이었습니다            국내   기타   \n\n                                             speech_text  \n29880  존경하는 국민 여러분!\\n\\n\\n\\n700만 해외동포 여러분!\\n\\n이 자리에 참석...  \n29882  오늘 자랑스러운 소위 계급장을 어깨에 달고 일선으로 나아가는 여러분의 모습을 보니 ...  \n29886   존경하는 국민 여러분, 700만 해외동포와 독립유공자, 그리고 내외 귀빈 여러분!...  \n29887   친애하는 한·미 장병 여러분!  2008 KR/FE 연습에 최선을 다하고 있는 김...  \n29888   한국노동조합총연맹 창립 62주년을 진심으로 축하드립니다.  장석춘 위원장을 비롯한...  \n...                                                  ...  \n30095  안녕하십니까! 대통령 이명박입니다. 지난 한 해 수고 많이 하셨습니다. 금년 새해 ...  \n30096  외국 기업 CEO와 주한 외국 상공회의소 회장단 여러분, 그리고 함께하신 주한 외교...  \n30097  사회자(SBS 논설위원 김형민) 여러분 안녕하십니까? ‘대통령과의 원탁 대화 어떻게...  \n30705  안녕하십니까. 대통령입니다! 지난주 우리는 드넓은 우주를 향해 나로호를 쏘아 올리며...  \n30706  안녕하십니까, 대통령입니다! 오늘 제109차 방송을 마지막으로 라디오·인터넷 연설을...  \n\n[208 rows x 7 columns]",
      "text/html": "<div>\n<style scoped>\n    .dataframe tbody tr th:only-of-type {\n        vertical-align: middle;\n    }\n\n    .dataframe tbody tr th {\n        vertical-align: top;\n    }\n\n    .dataframe thead th {\n        text-align: right;\n    }\n</style>\n<table border=\"1\" class=\"dataframe\">\n  <thead>\n    <tr style=\"text-align: right;\">\n      <th></th>\n      <th>division_number</th>\n      <th>president</th>\n      <th>title</th>\n      <th>date</th>\n      <th>location</th>\n      <th>kind</th>\n      <th>speech_text</th>\n    </tr>\n  </thead>\n  <tbody>\n    <tr>\n      <th>29880</th>\n      <td>1329848</td>\n      <td>이명박</td>\n      <td>제17대 대통령 취임사</td>\n      <td></td>\n      <td>국내</td>\n      <td>취임사</td>\n      <td>존경하는 국민 여러분!\\n\\n\\n\\n700만 해외동포 여러분!\\n\\n이 자리에 참석...</td>\n    </tr>\n    <tr>\n      <th>29882</th>\n      <td>1329850</td>\n      <td>이명박</td>\n      <td>학군사관후보생 제46기 임관식 축사</td>\n      <td></td>\n      <td>국내</td>\n      <td>기념사</td>\n      <td>오늘 자랑스러운 소위 계급장을 어깨에 달고 일선으로 나아가는 여러분의 모습을 보니 ...</td>\n    </tr>\n    <tr>\n      <th>29886</th>\n      <td>1329854</td>\n      <td>이명박</td>\n      <td>제89주년 3·1절 기념사</td>\n      <td></td>\n      <td>국내</td>\n      <td>기념사</td>\n      <td>존경하는 국민 여러분, 700만 해외동포와 독립유공자, 그리고 내외 귀빈 여러분!...</td>\n    </tr>\n    <tr>\n      <th>29887</th>\n      <td>1329855</td>\n      <td>이명박</td>\n      <td>2008 KR/FE연습 격려 편지</td>\n      <td></td>\n      <td>국내</td>\n      <td>기념사</td>\n      <td>친애하는 한·미 장병 여러분!  2008 KR/FE 연습에 최선을 다하고 있는 김...</td>\n    </tr>\n    <tr>\n      <th>29888</th>\n      <td>1329856</td>\n      <td>이명박</td>\n      <td>한국노동조합총연맹 창립 제62주년 축사</td>\n      <td></td>\n      <td>국내</td>\n      <td>기념사</td>\n      <td>한국노동조합총연맹 창립 62주년을 진심으로 축하드립니다.  장석춘 위원장을 비롯한...</td>\n    </tr>\n    <tr>\n      <th>...</th>\n      <td>...</td>\n      <td>...</td>\n      <td>...</td>\n      <td>...</td>\n      <td>...</td>\n      <td>...</td>\n      <td>...</td>\n    </tr>\n    <tr>\n      <th>30095</th>\n      <td>1330063</td>\n      <td>이명박</td>\n      <td>공무원 설 격려 휴대폰 메시지</td>\n      <td></td>\n      <td>국내</td>\n      <td>기념사</td>\n      <td>안녕하십니까! 대통령 이명박입니다. 지난 한 해 수고 많이 하셨습니다. 금년 새해 ...</td>\n    </tr>\n    <tr>\n      <th>30096</th>\n      <td>1330064</td>\n      <td>이명박</td>\n      <td>주한 외국인 투자기업 신년 리셉션 연설</td>\n      <td></td>\n      <td>국내</td>\n      <td>기타</td>\n      <td>외국 기업 CEO와 주한 외국 상공회의소 회장단 여러분, 그리고 함께하신 주한 외교...</td>\n    </tr>\n    <tr>\n      <th>30097</th>\n      <td>1330065</td>\n      <td>이명박</td>\n      <td>SBS 특집 '대통령과의 원탁 대화'</td>\n      <td></td>\n      <td>국내</td>\n      <td>기타</td>\n      <td>사회자(SBS 논설위원 김형민) 여러분 안녕하십니까? ‘대통령과의 원탁 대화 어떻게...</td>\n    </tr>\n    <tr>\n      <th>30705</th>\n      <td>1330673</td>\n      <td>이명박</td>\n      <td>제108차 라디오·인터넷 연설 - 도전하는 젊은이들이 있기에 대한민국의 미래는 밝습니다</td>\n      <td></td>\n      <td>국내</td>\n      <td>기타</td>\n      <td>안녕하십니까. 대통령입니다! 지난주 우리는 드넓은 우주를 향해 나로호를 쏘아 올리며...</td>\n    </tr>\n    <tr>\n      <th>30706</th>\n      <td>1330674</td>\n      <td>이명박</td>\n      <td>제109차 라디오·인터넷 연설 - 저는 '대한민국의 가장 행복한 일꾼'이었습니다</td>\n      <td></td>\n      <td>국내</td>\n      <td>기타</td>\n      <td>안녕하십니까, 대통령입니다! 오늘 제109차 방송을 마지막으로 라디오·인터넷 연설을...</td>\n    </tr>\n  </tbody>\n</table>\n<p>208 rows × 7 columns</p>\n</div>"
     },
     "execution_count": 18,
     "metadata": {},
     "output_type": "execute_result"
    }
   ],
   "source": [
    "df[df['date'] == '']"
   ],
   "metadata": {
    "collapsed": false,
    "ExecuteTime": {
     "end_time": "2023-09-06T05:02:26.169641Z",
     "start_time": "2023-09-06T05:02:26.163495Z"
    }
   },
   "id": "3cc6ff3750f7f664"
  },
  {
   "cell_type": "code",
   "execution_count": 20,
   "outputs": [
    {
     "data": {
      "text/plain": "           size         min         max\npresident                              \n이명박         819  2008.02.25  2013.02.07",
      "text/html": "<div>\n<style scoped>\n    .dataframe tbody tr th:only-of-type {\n        vertical-align: middle;\n    }\n\n    .dataframe tbody tr th {\n        vertical-align: top;\n    }\n\n    .dataframe thead th {\n        text-align: right;\n    }\n</style>\n<table border=\"1\" class=\"dataframe\">\n  <thead>\n    <tr style=\"text-align: right;\">\n      <th></th>\n      <th>size</th>\n      <th>min</th>\n      <th>max</th>\n    </tr>\n    <tr>\n      <th>president</th>\n      <th></th>\n      <th></th>\n      <th></th>\n    </tr>\n  </thead>\n  <tbody>\n    <tr>\n      <th>이명박</th>\n      <td>819</td>\n      <td>2008.02.25</td>\n      <td>2013.02.07</td>\n    </tr>\n  </tbody>\n</table>\n</div>"
     },
     "execution_count": 20,
     "metadata": {},
     "output_type": "execute_result"
    }
   ],
   "source": [
    "df.query('president == \"이명박\" & date != \"\"').groupby(\"president\")[\"date\"].agg([\"size\", \"min\", \"max\"])"
   ],
   "metadata": {
    "collapsed": false,
    "ExecuteTime": {
     "end_time": "2023-09-06T05:10:56.182037Z",
     "start_time": "2023-09-06T05:10:56.171749Z"
    }
   },
   "id": "4563f881e439858a"
  },
  {
   "cell_type": "code",
   "execution_count": 21,
   "outputs": [
    {
     "data": {
      "text/plain": "           size   min   max\npresident                  \n이승만          72  1948  1958",
      "text/html": "<div>\n<style scoped>\n    .dataframe tbody tr th:only-of-type {\n        vertical-align: middle;\n    }\n\n    .dataframe tbody tr th {\n        vertical-align: top;\n    }\n\n    .dataframe thead th {\n        text-align: right;\n    }\n</style>\n<table border=\"1\" class=\"dataframe\">\n  <thead>\n    <tr style=\"text-align: right;\">\n      <th></th>\n      <th>size</th>\n      <th>min</th>\n      <th>max</th>\n    </tr>\n    <tr>\n      <th>president</th>\n      <th></th>\n      <th></th>\n      <th></th>\n    </tr>\n  </thead>\n  <tbody>\n    <tr>\n      <th>이승만</th>\n      <td>72</td>\n      <td>1948</td>\n      <td>1958</td>\n    </tr>\n  </tbody>\n</table>\n</div>"
     },
     "execution_count": 21,
     "metadata": {},
     "output_type": "execute_result"
    }
   ],
   "source": [
    "df.query('president == \"이승만\" & date.str.len() < 5').groupby(\"president\")[\"date\"].agg([\"size\", \"min\", \"max\"])\n"
   ],
   "metadata": {
    "collapsed": false,
    "ExecuteTime": {
     "end_time": "2023-09-06T05:15:48.789848Z",
     "start_time": "2023-09-06T05:15:48.775064Z"
    }
   },
   "id": "dd23cc1be176905f"
  },
  {
   "cell_type": "code",
   "execution_count": 22,
   "outputs": [
    {
     "data": {
      "text/plain": "           size         min         max\npresident                              \n이승만         926  1948.07.24  1959.03.10",
      "text/html": "<div>\n<style scoped>\n    .dataframe tbody tr th:only-of-type {\n        vertical-align: middle;\n    }\n\n    .dataframe tbody tr th {\n        vertical-align: top;\n    }\n\n    .dataframe thead th {\n        text-align: right;\n    }\n</style>\n<table border=\"1\" class=\"dataframe\">\n  <thead>\n    <tr style=\"text-align: right;\">\n      <th></th>\n      <th>size</th>\n      <th>min</th>\n      <th>max</th>\n    </tr>\n    <tr>\n      <th>president</th>\n      <th></th>\n      <th></th>\n      <th></th>\n    </tr>\n  </thead>\n  <tbody>\n    <tr>\n      <th>이승만</th>\n      <td>926</td>\n      <td>1948.07.24</td>\n      <td>1959.03.10</td>\n    </tr>\n  </tbody>\n</table>\n</div>"
     },
     "execution_count": 22,
     "metadata": {},
     "output_type": "execute_result"
    }
   ],
   "source": [
    "df.query('president == \"이승만\" & date.str.len() > 5').groupby(\"president\")[\"date\"].agg([\"size\", \"min\", \"max\"])\n"
   ],
   "metadata": {
    "collapsed": false,
    "ExecuteTime": {
     "end_time": "2023-09-06T05:16:23.002460Z",
     "start_time": "2023-09-06T05:16:22.991240Z"
    }
   },
   "id": "f992bf3d426a6f6e"
  },
  {
   "cell_type": "code",
   "execution_count": null,
   "outputs": [],
   "source": [],
   "metadata": {
    "collapsed": false
   },
   "id": "b80fb665a17025ee"
  }
 ],
 "metadata": {
  "kernelspec": {
   "display_name": "Python 3",
   "language": "python",
   "name": "python3"
  },
  "language_info": {
   "codemirror_mode": {
    "name": "ipython",
    "version": 2
   },
   "file_extension": ".py",
   "mimetype": "text/x-python",
   "name": "python",
   "nbconvert_exporter": "python",
   "pygments_lexer": "ipython2",
   "version": "2.7.6"
  }
 },
 "nbformat": 4,
 "nbformat_minor": 5
}
